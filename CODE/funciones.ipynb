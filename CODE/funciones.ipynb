{
 "cells": [
  {
   "cell_type": "code",
   "execution_count": 5,
   "metadata": {},
   "outputs": [],
   "source": [
    "import gzip\n",
    "import json\n",
    "import pandas as pd\n",
    "import re\n",
    "import ast\n",
    "import requests\n",
    "from textblob import TextBlob\n",
    "from io import BytesIO"
   ]
  },
  {
   "cell_type": "code",
   "execution_count": 15,
   "metadata": {},
   "outputs": [],
   "source": [
    "'''URL a los datos en Github '''\n",
    "horas_jugadas_parquet = 'https://github.com/rcarmonae/HENRY_PI01_RCARMONA_MAYO2024/raw/main/DATASETS/F01_PlaytimeGenre.parquet'\n",
    "horas_jugadas_usuario_parquet = 'https://github.com/rcarmonae/HENRY_PI01_RCARMONA_MAYO2024/raw/main/DATASETS/F02_UserForGenre.parquet'\n",
    "game_reviews_parquet = 'https://github.com/rcarmonae/HENRY_PI01_RCARMONA_MAYO2024/raw/main/DATASETS/F03_UsersRecommend.parquet'\n",
    "\n",
    "\n",
    "'''Solicita el contenido de las URL'''\n",
    "res_horas_jugadas = requests.get(horas_jugadas_parquet)\n",
    "res_horas_jugadas_usuario = requests.get(horas_jugadas_usuario_parquet)\n",
    "res_game_reviews = requests.get(game_reviews_parquet)\n",
    "\n",
    "\n",
    "'''Convierte los csv a dataframe'''\n",
    "horas_jugadas = pd.read_parquet(BytesIO(res_horas_jugadas.content))\n",
    "horas_jugadas_usuario = pd.read_parquet(BytesIO(res_horas_jugadas_usuario.content))\n",
    "game_reviews = pd.read_parquet(BytesIO(res_game_reviews.content))"
   ]
  },
  {
   "cell_type": "code",
   "execution_count": 16,
   "metadata": {},
   "outputs": [
    {
     "name": "stdout",
     "output_type": "stream",
     "text": [
      "Año de lanzamiento con más horas jugadas para el género RPG: 2011\n"
     ]
    }
   ],
   "source": [
    "'''FUNCIÓN 1: PlaytimeGenre'''\n",
    "### lee la base de datos necesaria\n",
    "#horas_jugadas = pd.read_parquet(r'G:\\My Drive\\HENRY\\PROYECTO_INDIVIDUAL_I\\PI01-ABRIL2024\\DATASET\\F01_PlaytimeGenre.parquet')\n",
    "\n",
    "genre = 'RPG'\n",
    "# MODIFICAR ESTO PARA QUE LLAME AL ARGUMENTO DE LA FUNCIÓN  - Filtrar por un género específico, digamos RPG\n",
    "horas_jugadas_filtrado = horas_jugadas[horas_jugadas['genres'] == genre]\n",
    "# filtered_data = horas_jugadas_genre[horas_jugadas_2018['genres'] != 'Early Access']\n",
    "\n",
    "# Agrupar por años y sumar las horas jugadas de cada uno\n",
    "total_playtime_year = horas_jugadas_filtrado.groupby('release_year')['playtime_forever'].sum()\n",
    "\n",
    "# Encontrar el año con el mayor tiempo jugado para el género dado\n",
    "year_most_played = total_playtime_year.idxmax()\n",
    "\n",
    "# Modificar para que diga el año del ARGUMENTO de la función\n",
    "print(f\"Año de lanzamiento con más horas jugadas para el género {genre}: {int(year_most_played)}\")"
   ]
  },
  {
   "cell_type": "code",
   "execution_count": 17,
   "metadata": {},
   "outputs": [
    {
     "name": "stdout",
     "output_type": "stream",
     "text": [
      "Usuario con más horas jugadas para el género RPG: shinomegami, Horas jugadas: [{Año: 1999, Horas: 377}, {Año: 2003, Horas: 530943}, {Año: 2004, Horas: 696}, {Año: 2005, Horas: 185}, {Año: 2006, Horas: 2023}, {Año: 2007, Horas: 135020}, {Año: 2008, Horas: 1305}, {Año: 2009, Horas: 1382}, {Año: 2010, Horas: 4311}, {Año: 2011, Horas: 17752}, {Año: 2012, Horas: 12819}, {Año: 2013, Horas: 107775}, {Año: 2014, Horas: 81938}, {Año: 2015, Horas: 111419}, {Año: 2016, Horas: 15550}]\n"
     ]
    }
   ],
   "source": [
    "'''FUNCIÓN 2: UserForGenre'''\n",
    "### lee la base de datos necesaria\n",
    "#horas_jugadas_usuario = pd.read_parquet(r'G:\\My Drive\\HENRY\\PROYECTO_INDIVIDUAL_I\\PI01-ABRIL2024\\DATASET\\F02_UserForGenre.parquet')\n",
    "\n",
    "genre = 'RPG'\n",
    "\n",
    "# MODIFICAR ESTO PARA QUE LLAME AL ARGUMENTO DE LA FUNCIÓN  - Filtrar por un género específico, digamos RPG\n",
    "horas_jugadas_usuario_filtrado = horas_jugadas_usuario[horas_jugadas_usuario['genres'] == genre]\n",
    "\n",
    "# Agrupar por años y sumar las horas jugadas de cada uno\n",
    "total_playtime_user = horas_jugadas_usuario_filtrado.groupby(['user_id','release_year'])['playtime_forever'].sum()\n",
    "\n",
    "# Agrupar otra vez por usuario\n",
    "user_group =total_playtime_user.groupby('user_id').sum()\n",
    "\n",
    "# Encontrar el jugador con el mayor tiempo jugado para el género dado\n",
    "user_most_played = user_group.idxmax()\n",
    "\n",
    "# Segmenta el DF con el resumen de usuario y año, para obtener solo los registros del usuario que más horas jugó \n",
    "user_years = total_playtime_user.loc[user_most_played]\n",
    "\n",
    "# Prepara el dataframe para imprimirlo en el formato adecuado\n",
    "user_years = user_years.reset_index() # Genera un nuevo índice para liberar el año del registro\n",
    "user_years['release_year'] = user_years['release_year'].astype(int) # Convierte los años de float a int\n",
    "user_years['playtime_forever'] = user_years['playtime_forever'].astype(int) # Convierte las horas jugadas de float a int\n",
    "user_years = user_years[user_years['playtime_forever'] != 0] # Remueve las filas de los años en los que las horas jugadas = 0\n",
    "list_of_dicts = user_years.to_dict('records') # Convierte el DataFrame a una lista de diccionarios\n",
    "formatted_entries = [f\"{{Año: {d['release_year']}, Horas: {d['playtime_forever']}}}\" for d in list_of_dicts] # Crear una lista de strings formateados como diccionarios\n",
    "formatted_string = \", \".join(formatted_entries) # Unir la lista en un string único\n",
    "\n",
    "# Formatear el mensaje para imprimir\n",
    "final_message = f\"Usuario con más horas jugadas para el género {genre}: {user_most_played}, Horas jugadas: [{formatted_string}]\"\n",
    "\n",
    "print(final_message)"
   ]
  },
  {
   "cell_type": "code",
   "execution_count": 5,
   "metadata": {},
   "outputs": [
    {
     "name": "stdout",
     "output_type": "stream",
     "text": [
      "[Puesto 1: Pajama Sam: No Need to Hide When It's Dark Outside, Puesto 2: I Have No Mouth, and I Must Scream, Puesto 3: The Original Strife: Veteran Edition]\n"
     ]
    }
   ],
   "source": [
    "'''FUNCIÓN 3: UsersRecommend'''\n",
    "# ESTA FUNCIÓN PARTE DEL DT game_reviews\n",
    "game_reviews = pd.read_parquet(r'G:\\My Drive\\HENRY\\PROYECTO_INDIVIDUAL_I\\PI01-ABRIL2024\\DATASET\\F03_UsersRecommend.parquet')\n",
    "def top_recommended_games(year):\n",
    "    # Filtrar el DataFrame por año, recomendación positiva y sentimientos positivos/neutrales\n",
    "    filtered_df = game_reviews[\n",
    "        (game_reviews['release_year'] == year) & \n",
    "        (game_reviews['recommend'] == True) & \n",
    "        (game_reviews['sentiment_analysis'] >= 1)\n",
    "    ]\n",
    "    \n",
    "    # Contar las recomendaciones por juego\n",
    "    recommendation_counts = filtered_df['item_id'].value_counts().head(3)\n",
    "    \n",
    "    # Crear un DataFrame para los resultados\n",
    "    top_games = pd.DataFrame({\n",
    "        'item_id': recommendation_counts.index,\n",
    "        'recommendations': recommendation_counts.values      \n",
    "    })\n",
    "    \n",
    "    # join entre top games y filtered_df para asignar los nombres (titulos) de los items\n",
    "    top_game_titles = pd.merge(top_games[['item_id','recommendations']], filtered_df[['item_id','title']], left_on='item_id', right_on='item_id', how='left')\n",
    "    top_game_titles = top_game_titles.drop_duplicates(subset=['item_id'])\n",
    "    top_game_titles.reset_index(drop=True, inplace=True)\n",
    "    final_message = f\"[Puesto 1: {top_game_titles.loc[0,'title']}, Puesto 2: {top_game_titles.loc[1,'title']}, Puesto 3: {top_game_titles.loc[2,'title']}]\"\n",
    "    return final_message\n",
    "\n",
    "\n",
    "# Obtener el top 3 de juegos recomendados para el año 2021\n",
    "top_games_1995 = top_recommended_games(1996)\n",
    "print(top_games_1995)\n"
   ]
  }
 ],
 "metadata": {
  "kernelspec": {
   "display_name": "Python 3",
   "language": "python",
   "name": "python3"
  },
  "language_info": {
   "codemirror_mode": {
    "name": "ipython",
    "version": 3
   },
   "file_extension": ".py",
   "mimetype": "text/x-python",
   "name": "python",
   "nbconvert_exporter": "python",
   "pygments_lexer": "ipython3",
   "version": "3.11.9"
  }
 },
 "nbformat": 4,
 "nbformat_minor": 2
}
